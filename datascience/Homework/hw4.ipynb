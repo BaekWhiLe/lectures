{
 "cells": [
  {
   "cell_type": "code",
   "execution_count": 10,
   "id": "b282a8fd-fa34-42d3-a991-462266af4b89",
   "metadata": {},
   "outputs": [
    {
     "name": "stdout",
     "output_type": "stream",
     "text": [
      "당신의 조선시대 이름은 백방장 입니다.\n"
     ]
    }
   ],
   "source": [
    "middle = ['쌍', '쇠', '복', '돌', '팽', '육', '쌍',\n",
    "          '개', '칠', '갑', '삼', '방']\n",
    "last = ['봉', '구', '욕', '포', '똥', '삼', '식',\n",
    "        '석', '놈', '님', '년', '돌', '단', '득',\n",
    "        '방', '질', '장', '걸', '래', '룡', '동',\n",
    "        '순', '자', '박', '창', '언', '것', '포',\n",
    "        '만', '단', '국']\n",
    "\n",
    "def get_my_chosun_name(family_name, month, day) :\n",
    "    name = family_name + middle[month - 1] + last[day - 1]\n",
    "    return name\n",
    "        \n",
    "print(\"당신의 조선시대 이름은 \"+get_my_chosun_name(\"백\", 12, 17)+\" 입니다.\")"
   ]
  },
  {
   "cell_type": "code",
   "execution_count": null,
   "id": "3146dabc-54b0-436f-9f99-9edb11f047ec",
   "metadata": {},
   "outputs": [],
   "source": []
  },
  {
   "cell_type": "code",
   "execution_count": null,
   "id": "f3ba6ec4-f266-47cd-90d8-a81f2cbaa6d6",
   "metadata": {},
   "outputs": [],
   "source": []
  }
 ],
 "metadata": {
  "kernelspec": {
   "display_name": "Python 3",
   "language": "python",
   "name": "python3"
  },
  "language_info": {
   "codemirror_mode": {
    "name": "ipython",
    "version": 3
   },
   "file_extension": ".py",
   "mimetype": "text/x-python",
   "name": "python",
   "nbconvert_exporter": "python",
   "pygments_lexer": "ipython3",
   "version": "3.8.8"
  }
 },
 "nbformat": 4,
 "nbformat_minor": 5
}
