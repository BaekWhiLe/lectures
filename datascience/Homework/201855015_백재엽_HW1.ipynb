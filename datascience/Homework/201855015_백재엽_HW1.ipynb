{
 "cells": [
  {
   "cell_type": "code",
   "execution_count": 11,
   "id": "b6d8609e-a880-43c2-91c5-608a3bdd3ee9",
   "metadata": {
    "tags": []
   },
   "outputs": [
    {
     "name": "stdout",
     "output_type": "stream",
     "text": [
      "Customer One Items:\n",
      " ( Lovely Loveseat ) Tufted polyster blend on wood. 32 inches high x 40 inches wide x 30 inches deep. Red or white.  ( Luxurious Lamp ) Glass and iron. 36 inches tall. Brown with cream shade. \n",
      "Customer One Total:\n",
      "333.09119999999996\n"
     ]
    }
   ],
   "source": [
    "\n",
    "lovely_loveseat_description = \" ( Lovely Loveseat ) Tufted polyster blend on wood. 32 inches high x 40 inches wide x 30 inches deep. Red or white. \"\n",
    "# 1번, 안락의자 상품설명\n",
    "lovely_loveseat_price = 254.00\n",
    "# 2번, 안락의자 상품가격.\n",
    "\n",
    "stylish_settee_description = \" ( Stylish Settee ) Faux leather on birch. 29.50 inches high x 54.75 inches wide x 28 inches deep. Black. \"\n",
    "#3번, 세티 상품설명\n",
    "stylish_settee_price = 180.50\n",
    "#4번, 세티 상품가격\n",
    "\n",
    "luxurious_lamp_description = \" ( Luxurious Lamp ) Glass and iron. 36 inches tall. Brown with cream shade. \"\n",
    "#5번, 램프 상품설명\n",
    "luxurious_lamp_price = 52.15\n",
    "#6번, 램프 상품가격\n",
    "\n",
    "sales_tax = .088\n",
    "#7번, 부가세 별도..\n",
    "\n",
    "customer_one_total = 0\n",
    "#8번, 손님이 과연 지갑을 열까요 ?\n",
    "customer_one_itemization = \"\"\n",
    "#9번, 손님이 꽤 관심이 있어보입니다..\n",
    "\n",
    "customer_one_total = lovely_loveseat_price + luxurious_lamp_price\n",
    "#10번,12번, 손님이 안락의자와 램프를 사기로 했습니다!\n",
    "customer_one_itemization = lovely_loveseat_description + luxurious_lamp_description \n",
    "#11번,13번, 그렇다면 설명서도 넣어드려야죠!\n",
    "\n",
    "customer_one_tax = customer_one_total * sales_tax\n",
    "#14번, 부가세 계산하겠습니다...\n",
    "\n",
    "customer_one_total = customer_one_total + customer_one_tax\n",
    "#15번, 결제액에 부가세 더합니다..\n",
    "\n",
    "print (\"Customer One Items:\")\n",
    "print (customer_one_itemization)\n",
    "#16번,17번, 손님이 구매하신 상품은...\n",
    "\n",
    "print (\"Customer One Total:\")\n",
    "print (customer_one_total)\n",
    "#18번,19번, 총 가격은...\n",
    "\n"
   ]
  },
  {
   "cell_type": "code",
   "execution_count": null,
   "id": "2daba3c8-9999-46de-848b-25ee0b43c1e6",
   "metadata": {},
   "outputs": [],
   "source": []
  }
 ],
 "metadata": {
  "kernelspec": {
   "display_name": "Python 3",
   "language": "python",
   "name": "python3"
  },
  "language_info": {
   "codemirror_mode": {
    "name": "ipython",
    "version": 3
   },
   "file_extension": ".py",
   "mimetype": "text/x-python",
   "name": "python",
   "nbconvert_exporter": "python",
   "pygments_lexer": "ipython3",
   "version": "3.8.8"
  }
 },
 "nbformat": 4,
 "nbformat_minor": 5
}
