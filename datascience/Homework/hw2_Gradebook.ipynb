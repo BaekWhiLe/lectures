{
 "cells": [
  {
   "cell_type": "code",
   "execution_count": 2,
   "id": "45b42f33-538c-43bf-b6be-086e8af9bc5c",
   "metadata": {},
   "outputs": [
    {
     "name": "stdout",
     "output_type": "stream",
     "text": [
      "[['physics', 98], ['calculus', 97], ['poetry', 85], ['history', 88]]\n"
     ]
    }
   ],
   "source": [
    "subjects = [\"physics\",\"calculus\",\"poetry\",\"history\"]\n",
    "#1번, 과목 list 생성      \n",
    "grades = [98,97,85,88]\n",
    "#2번, 성적 list 생성\n",
    "            \n",
    "gradebook= [[\"physics\",98],[\"calculus\",97],[\"poetry\",85],[\"history\",88]]\n",
    "#3번, 두 리스트 값으로 성적표 list 생성\n",
    "\n",
    "print(gradebook)\n",
    "#4번"
   ]
  },
  {
   "cell_type": "code",
   "execution_count": 3,
   "id": "4c4980d3-2789-4b5d-9e2c-f1fc201d0143",
   "metadata": {},
   "outputs": [
    {
     "name": "stdout",
     "output_type": "stream",
     "text": [
      "[['physics', 98], ['calculus', 97], ['poetry', 85], ['history', 88], ['computer science', 100], ['visual arts', 93]]\n"
     ]
    }
   ],
   "source": [
    "gradebook.append([\"computer science\",100])\n",
    "#5번, gradebook list에 append 메소드를 통해 성적 추가입력\n",
    "gradebook.append([\"visual arts\",93])\n",
    "#6번, 위와 상동\n",
    "\n",
    "print(gradebook)\n",
    "#추가입력 후 list 출력"
   ]
  },
  {
   "cell_type": "code",
   "execution_count": 7,
   "id": "f1eb241d-ec49-49c1-aa8a-6575bfe11a22",
   "metadata": {},
   "outputs": [
    {
     "name": "stdout",
     "output_type": "stream",
     "text": [
      "[['physics', 98], ['calculus', 97], ['poetry', 'pass'], ['history', 88], ['computer science', 100], ['visual arts', 108]]\n"
     ]
    }
   ],
   "source": [
    "gradebook[5][1]+=5\n",
    "#7번, index 검색을 통해 점수 추가\n",
    "gradebook[2].remove(85)\n",
    "gradebook[2].append(\"pass\")\n",
    "#8번, remove 메소드를 사용해 점수를 제거하고, pass값 부여\n",
    "print(gradebook)\n",
    "#9번, 바뀐 값 확인\n",
    "\n"
   ]
  },
  {
   "cell_type": "code",
   "execution_count": 8,
   "id": "315ce3e0-43e5-45c2-bccd-ab725b476c2a",
   "metadata": {},
   "outputs": [
    {
     "name": "stdout",
     "output_type": "stream",
     "text": [
      "[['politics', 80], ['latin', 96], ['dance', 97], ['architecture', 65], ['physics', 98], ['calculus', 97], ['poetry', 'pass'], ['history', 88], ['computer science', 100], ['visual arts', 108]]\n"
     ]
    }
   ],
   "source": [
    "last_semester_gradebook =[[\"politics\", 80], [\"latin\", 96], [\"dance\", 97], [\"architecture\", 65]]\n",
    "full_gradebook = last_semester_gradebook+gradebook\n",
    "\n",
    "print(full_gradebook)\n",
    "#10번, 전학기 성적표 list 생성 후, 당학기 성적표 list를 더해 전체 성적표 출력\n"
   ]
  },
  {
   "cell_type": "code",
   "execution_count": null,
   "id": "aa3da92e-36c3-46f3-a94d-c230dba8171e",
   "metadata": {},
   "outputs": [],
   "source": []
  }
 ],
 "metadata": {
  "kernelspec": {
   "display_name": "Python 3",
   "language": "python",
   "name": "python3"
  },
  "language_info": {
   "codemirror_mode": {
    "name": "ipython",
    "version": 3
   },
   "file_extension": ".py",
   "mimetype": "text/x-python",
   "name": "python",
   "nbconvert_exporter": "python",
   "pygments_lexer": "ipython3",
   "version": "3.8.8"
  }
 },
 "nbformat": 4,
 "nbformat_minor": 5
}
